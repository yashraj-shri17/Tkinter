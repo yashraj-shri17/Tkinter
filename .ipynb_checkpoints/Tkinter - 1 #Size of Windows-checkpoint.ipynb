{
 "cells": [
  {
   "cell_type": "code",
   "execution_count": 43,
   "id": "288fce2d",
   "metadata": {},
   "outputs": [],
   "source": [
    "from tkinter import *"
   ]
  },
  {
   "cell_type": "code",
   "execution_count": 44,
   "id": "1e0ebbf9",
   "metadata": {},
   "outputs": [],
   "source": [
    "root = Tk()"
   ]
  },
  {
   "cell_type": "code",
   "execution_count": 45,
   "id": "794198f8",
   "metadata": {},
   "outputs": [
    {
     "data": {
      "text/plain": [
       "''"
      ]
     },
     "execution_count": 45,
     "metadata": {},
     "output_type": "execute_result"
    }
   ],
   "source": [
    "root.geometry(\"444x234\") #This is a function for a opening windows in default size syntax: width x height"
   ]
  },
  {
   "cell_type": "code",
   "execution_count": 46,
   "id": "60441be8",
   "metadata": {},
   "outputs": [],
   "source": [
    "root.minsize(200,100) #This is a function for a letting windows in minimum size syntax: width , height"
   ]
  },
  {
   "cell_type": "code",
   "execution_count": 48,
   "id": "8f26947c",
   "metadata": {},
   "outputs": [],
   "source": [
    "yashraj = Label(text=\"This is my GUI\")"
   ]
  },
  {
   "cell_type": "code",
   "execution_count": 49,
   "id": "d713601d",
   "metadata": {},
   "outputs": [],
   "source": [
    "yashraj.pack()"
   ]
  },
  {
   "cell_type": "code",
   "execution_count": 50,
   "id": "eb2e1d8d",
   "metadata": {},
   "outputs": [],
   "source": [
    "root.mainloop()"
   ]
  },
  {
   "cell_type": "code",
   "execution_count": null,
   "id": "bcc3e85b",
   "metadata": {},
   "outputs": [],
   "source": [
    "#Function for width and height of screen is geometry\n"
   ]
  },
  {
   "cell_type": "code",
   "execution_count": null,
   "id": "3ccaa22c",
   "metadata": {},
   "outputs": [],
   "source": []
  },
  {
   "cell_type": "code",
   "execution_count": null,
   "id": "cc896c1c",
   "metadata": {},
   "outputs": [],
   "source": []
  },
  {
   "cell_type": "code",
   "execution_count": null,
   "id": "3cf8ba91",
   "metadata": {},
   "outputs": [],
   "source": []
  },
  {
   "cell_type": "code",
   "execution_count": null,
   "id": "5af3854a",
   "metadata": {},
   "outputs": [],
   "source": []
  },
  {
   "cell_type": "code",
   "execution_count": null,
   "id": "b7d6f1f9",
   "metadata": {},
   "outputs": [],
   "source": []
  },
  {
   "cell_type": "code",
   "execution_count": null,
   "id": "42d76d82",
   "metadata": {},
   "outputs": [],
   "source": []
  }
 ],
 "metadata": {
  "kernelspec": {
   "display_name": "Python 3 (ipykernel)",
   "language": "python",
   "name": "python3"
  },
  "language_info": {
   "codemirror_mode": {
    "name": "ipython",
    "version": 3
   },
   "file_extension": ".py",
   "mimetype": "text/x-python",
   "name": "python",
   "nbconvert_exporter": "python",
   "pygments_lexer": "ipython3",
   "version": "3.11.5"
  }
 },
 "nbformat": 4,
 "nbformat_minor": 5
}
