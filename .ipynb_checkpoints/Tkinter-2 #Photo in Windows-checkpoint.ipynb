{
 "cells": [
  {
   "cell_type": "code",
   "execution_count": 52,
   "id": "fef86442",
   "metadata": {},
   "outputs": [],
   "source": [
    "from tkinter import *"
   ]
  },
  {
   "cell_type": "code",
   "execution_count": 53,
   "id": "58e6ad84",
   "metadata": {},
   "outputs": [],
   "source": [
    "root = Tk()"
   ]
  },
  {
   "cell_type": "code",
   "execution_count": 54,
   "id": "32968d3d",
   "metadata": {},
   "outputs": [
    {
     "data": {
      "text/plain": [
       "''"
      ]
     },
     "execution_count": 54,
     "metadata": {},
     "output_type": "execute_result"
    }
   ],
   "source": [
    "root.geometry(\"744x744\")"
   ]
  },
  {
   "cell_type": "code",
   "execution_count": 55,
   "id": "b7bb3b37",
   "metadata": {},
   "outputs": [],
   "source": [
    "photo = PhotoImage(file = \"—Pngtree—instagram icon instagram logo_3584852.png\")"
   ]
  },
  {
   "cell_type": "code",
   "execution_count": 56,
   "id": "ac4cc767",
   "metadata": {},
   "outputs": [],
   "source": [
    "photo_Label = Label(image = photo)\n",
    "photo_Label.pack()"
   ]
  },
  {
   "cell_type": "code",
   "execution_count": 57,
   "id": "5952182a",
   "metadata": {},
   "outputs": [],
   "source": [
    "root.mainloop()"
   ]
  },
  {
   "cell_type": "code",
   "execution_count": null,
   "id": "22e66815",
   "metadata": {},
   "outputs": [],
   "source": []
  }
 ],
 "metadata": {
  "kernelspec": {
   "display_name": "Python 3 (ipykernel)",
   "language": "python",
   "name": "python3"
  },
  "language_info": {
   "codemirror_mode": {
    "name": "ipython",
    "version": 3
   },
   "file_extension": ".py",
   "mimetype": "text/x-python",
   "name": "python",
   "nbconvert_exporter": "python",
   "pygments_lexer": "ipython3",
   "version": "3.11.5"
  }
 },
 "nbformat": 4,
 "nbformat_minor": 5
}
